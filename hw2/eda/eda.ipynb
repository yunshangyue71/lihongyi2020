{
 "cells": [
  {
   "cell_type": "code",
   "execution_count": 10,
   "metadata": {},
   "outputs": [],
   "source": [
    "import numpy as np\n",
    "from pandas.core.frame import DataFrame"
   ]
  },
  {
   "cell_type": "markdown",
   "metadata": {},
   "source": [
    "# 读取文件"
   ]
  },
  {
   "cell_type": "code",
   "execution_count": 11,
   "metadata": {},
   "outputs": [],
   "source": [
    "root =  \"/media/q/data/lihongyi2020/hw2\"\n",
    "np.random.seed(0)\n",
    "X_train_fpath = root + '/data/adult.data'\n",
    "Y_train_fpath = root + '/data/Y_train'\n",
    "X_test_fpath = root + '/data/X_test'\n",
    "output_fpath = root + '/output_{}.csv'"
   ]
  },
  {
   "cell_type": "markdown",
   "metadata": {},
   "source": [
    "### age\t年龄\t连续型\t\n",
    "### workclass\t工作类型   离散型\t\n",
    "    Private(私人);  \n",
    "    Self-emp-not-inc(自由职业非公司);   \n",
    "    Self-emp-inc(自由职业公司);   \n",
    "    Federal-gov(联邦政府);   \n",
    "    Local-gov(地方政府);    \n",
    "    State-gov(州政府);   \n",
    "    Without-pay(无薪);  \n",
    "    Never-worked(无工作经验)  \n",
    "### final-weight\t样本权重\t连续型\t\n",
    "### education\t受教育程度\t离散型\n",
    "    Bachelors(学士);  \n",
    "    Some-college(大学未毕业);   \n",
    "    11th(高二);   \n",
    "    HS-grad(高中毕业);  \n",
    "    Prof-school(职业学校);   \n",
    "    Assoc-acdm(大学专科);   \n",
    "    Assoc-voc(准职业学位);  \n",
    "    9th(初三),7th-8th(初中1-2年级);   \n",
    "    12th(高三);   \n",
    "    Masters(硕士); \n",
    "    1st-4th(小学1-4年级);   \n",
    "    10th(高一);   \n",
    "    Doctorate(博士);   \n",
    "    5th-6th(小学5-6年级);   \n",
    "    Preschool(幼儿园)  \n",
    "### education-num\t受教育时长\t连续型\t\n",
    "### marital-status\t婚姻情况\t离散型\t\n",
    "    Married-civ-spouse(已婚平民配偶); \n",
    "    Divorced(离婚); \n",
    "    Never-married(未婚); \n",
    "    Separated(分居); \n",
    "    Widowed(丧偶); \n",
    "    Married-spouse-absent(已婚配偶异地); \n",
    "    arried-AF-spouse(已婚军属)\n",
    "### occupation\t职业\t离散型\t\n",
    "    Tech-support(技术支持);  \n",
    "    Craft-repair(手工艺维修);  \n",
    "    Other-service(其他职业);   \n",
    "    Sales(销售);   \n",
    "    Exec-managerial(执行主管);   \n",
    "    Prof-specialty(专业技术);  \n",
    "    Handlers-cleaners(劳工保洁);  \n",
    "    Machine-op-inspct(机械操作);  \n",
    "    Adm-clerical(管理文书);  \n",
    "    Farming-fishing(农业捕捞);   \n",
    "    Transport-moving(运输);  \n",
    "    Priv-house-serv(家政服务);   \n",
    "    Protective-serv(保安);   \n",
    "    Armed-Forces(军人)  \n",
    "### relationship\t家庭角色\t离散型\t\n",
    "    Wife(妻子);   \n",
    "    Own-child(孩子);  \n",
    "    Husband(丈夫);   \n",
    "    Not-in-family(离家);   \n",
    "    Other-relative(其他关系);   \n",
    "    Unmarried(未婚)  \n",
    "### race\t种族\t离散型\t\n",
    "    White(白人);   \n",
    "    Asian-Pac-Islander(亚裔、太平洋岛裔);  \n",
    "    Amer-Indian-Eskimo(美洲印第安裔、爱斯基摩裔);   \n",
    "    Black(非裔);   \n",
    "    Other(其他)  \n",
    "### sex\t性别\t离散型\t\n",
    "    Female(女); Male(男)\n",
    "### capital-gain\t资本收益\t连续型\t\n",
    "### capital-loss\t资本支出\t连续型\t\n",
    "### hours-per-week\t周工作小时数\t连续型\t\n",
    "### country\t国籍\t离散型\n",
    "    United-States(美国); Cambodia(柬埔寨); England(英国); Puerto-Rico(波多黎各); Canada(加拿大);\n",
    "    Germany(德国); Outlying-US(Guam-USVI-etc) (美国海外属地); India(印度); Japan(日本); Greece(希腊);\n",
    "    South(南美); China(中国); Cuba(古巴); Iran(伊朗); Honduras(洪都拉斯); \n",
    "    Philippines(菲律宾); Italy(意大利); Poland(波兰); Jamaica(牙买加)，Vietnam(越南); \n",
    "    Mexico(墨西哥); Portugal(葡萄牙); Ireland(爱尔兰); France(法国); Dominican-Republic(多米尼加共和国);\n",
    "    Laos(老挝); Ecuador(厄瓜多尔); Taiwan(台湾); Haiti(海地); Columbia(哥伦比亚);\n",
    "    Hungary(匈牙利); Guatemala(危地马拉); Nicaragua(尼加拉瓜); Scotland(苏格兰); Thailand(泰国); \n",
    "    Yugoslavia(南斯拉夫); El-Salvador(萨尔瓦多); Trinadad&Tobago(特立尼达和多巴哥); Peru(秘鲁); \n",
    "    Hong(香港); Holand-Netherlands(荷兰)\n",
    "### income-level\t收入等级\t离散型\n",
    "    <=50K; >50K"
   ]
  },
  {
   "cell_type": "code",
   "execution_count": 15,
   "metadata": {},
   "outputs": [],
   "source": [
    "feature = {0:\"age\", 1:\"workclass\", 2:\"final-weight\", 3:\"education\", 4:\"education-num\", 5:\"marital-status\",\n",
    "           6:\"occupation\", 7:\"relationship\", 8:\"race\", 9:\"sex\",10:\"capital-gain\",\n",
    "           11:\"capital-loss\",12:\"hours-per-week\", 13:\"country\", 14:\"income-level\"}"
   ]
  },
  {
   "cell_type": "code",
   "execution_count": 24,
   "metadata": {},
   "outputs": [],
   "source": [
    "x_train = []\n",
    "with open(X_train_fpath) as f:\n",
    "    lines = f.readlines()\n",
    "    for line in lines:\n",
    "        data = line.strip().split(\",\")\n",
    "        x_train.append(data)\n",
    "X_train = DataFrame(x_train)\n",
    "X_train.rename(columns = feature, inplace=True)"
   ]
  },
  {
   "cell_type": "code",
   "execution_count": 25,
   "metadata": {},
   "outputs": [
    {
     "data": {
      "text/html": [
       "<div>\n",
       "<style scoped>\n",
       "    .dataframe tbody tr th:only-of-type {\n",
       "        vertical-align: middle;\n",
       "    }\n",
       "\n",
       "    .dataframe tbody tr th {\n",
       "        vertical-align: top;\n",
       "    }\n",
       "\n",
       "    .dataframe thead th {\n",
       "        text-align: right;\n",
       "    }\n",
       "</style>\n",
       "<table border=\"1\" class=\"dataframe\">\n",
       "  <thead>\n",
       "    <tr style=\"text-align: right;\">\n",
       "      <th></th>\n",
       "      <th>age</th>\n",
       "      <th>workclass</th>\n",
       "      <th>final-weight</th>\n",
       "      <th>education</th>\n",
       "      <th>education-num</th>\n",
       "      <th>marital-status</th>\n",
       "      <th>occupation</th>\n",
       "      <th>relationship</th>\n",
       "      <th>race</th>\n",
       "      <th>sex</th>\n",
       "      <th>capital-gain</th>\n",
       "      <th>capital-loss</th>\n",
       "      <th>hours-per-week</th>\n",
       "      <th>country</th>\n",
       "      <th>income-level</th>\n",
       "    </tr>\n",
       "  </thead>\n",
       "  <tbody>\n",
       "    <tr>\n",
       "      <th>0</th>\n",
       "      <td>39</td>\n",
       "      <td>State-gov</td>\n",
       "      <td>77516</td>\n",
       "      <td>Bachelors</td>\n",
       "      <td>13</td>\n",
       "      <td>Never-married</td>\n",
       "      <td>Adm-clerical</td>\n",
       "      <td>Not-in-family</td>\n",
       "      <td>White</td>\n",
       "      <td>Male</td>\n",
       "      <td>2174</td>\n",
       "      <td>0</td>\n",
       "      <td>40</td>\n",
       "      <td>United-States</td>\n",
       "      <td>&lt;=50K</td>\n",
       "    </tr>\n",
       "    <tr>\n",
       "      <th>1</th>\n",
       "      <td>50</td>\n",
       "      <td>Self-emp-not-inc</td>\n",
       "      <td>83311</td>\n",
       "      <td>Bachelors</td>\n",
       "      <td>13</td>\n",
       "      <td>Married-civ-spouse</td>\n",
       "      <td>Exec-managerial</td>\n",
       "      <td>Husband</td>\n",
       "      <td>White</td>\n",
       "      <td>Male</td>\n",
       "      <td>0</td>\n",
       "      <td>0</td>\n",
       "      <td>13</td>\n",
       "      <td>United-States</td>\n",
       "      <td>&lt;=50K</td>\n",
       "    </tr>\n",
       "    <tr>\n",
       "      <th>2</th>\n",
       "      <td>38</td>\n",
       "      <td>Private</td>\n",
       "      <td>215646</td>\n",
       "      <td>HS-grad</td>\n",
       "      <td>9</td>\n",
       "      <td>Divorced</td>\n",
       "      <td>Handlers-cleaners</td>\n",
       "      <td>Not-in-family</td>\n",
       "      <td>White</td>\n",
       "      <td>Male</td>\n",
       "      <td>0</td>\n",
       "      <td>0</td>\n",
       "      <td>40</td>\n",
       "      <td>United-States</td>\n",
       "      <td>&lt;=50K</td>\n",
       "    </tr>\n",
       "    <tr>\n",
       "      <th>3</th>\n",
       "      <td>53</td>\n",
       "      <td>Private</td>\n",
       "      <td>234721</td>\n",
       "      <td>11th</td>\n",
       "      <td>7</td>\n",
       "      <td>Married-civ-spouse</td>\n",
       "      <td>Handlers-cleaners</td>\n",
       "      <td>Husband</td>\n",
       "      <td>Black</td>\n",
       "      <td>Male</td>\n",
       "      <td>0</td>\n",
       "      <td>0</td>\n",
       "      <td>40</td>\n",
       "      <td>United-States</td>\n",
       "      <td>&lt;=50K</td>\n",
       "    </tr>\n",
       "    <tr>\n",
       "      <th>4</th>\n",
       "      <td>28</td>\n",
       "      <td>Private</td>\n",
       "      <td>338409</td>\n",
       "      <td>Bachelors</td>\n",
       "      <td>13</td>\n",
       "      <td>Married-civ-spouse</td>\n",
       "      <td>Prof-specialty</td>\n",
       "      <td>Wife</td>\n",
       "      <td>Black</td>\n",
       "      <td>Female</td>\n",
       "      <td>0</td>\n",
       "      <td>0</td>\n",
       "      <td>40</td>\n",
       "      <td>Cuba</td>\n",
       "      <td>&lt;=50K</td>\n",
       "    </tr>\n",
       "  </tbody>\n",
       "</table>\n",
       "</div>"
      ],
      "text/plain": [
       "  age          workclass final-weight   education education-num  \\\n",
       "0  39          State-gov        77516   Bachelors            13   \n",
       "1  50   Self-emp-not-inc        83311   Bachelors            13   \n",
       "2  38            Private       215646     HS-grad             9   \n",
       "3  53            Private       234721        11th             7   \n",
       "4  28            Private       338409   Bachelors            13   \n",
       "\n",
       "        marital-status          occupation    relationship    race      sex  \\\n",
       "0        Never-married        Adm-clerical   Not-in-family   White     Male   \n",
       "1   Married-civ-spouse     Exec-managerial         Husband   White     Male   \n",
       "2             Divorced   Handlers-cleaners   Not-in-family   White     Male   \n",
       "3   Married-civ-spouse   Handlers-cleaners         Husband   Black     Male   \n",
       "4   Married-civ-spouse      Prof-specialty            Wife   Black   Female   \n",
       "\n",
       "  capital-gain capital-loss hours-per-week         country income-level  \n",
       "0         2174            0             40   United-States        <=50K  \n",
       "1            0            0             13   United-States        <=50K  \n",
       "2            0            0             40   United-States        <=50K  \n",
       "3            0            0             40   United-States        <=50K  \n",
       "4            0            0             40            Cuba        <=50K  "
      ]
     },
     "execution_count": 25,
     "metadata": {},
     "output_type": "execute_result"
    }
   ],
   "source": [
    "X_train.head()"
   ]
  },
  {
   "cell_type": "markdown",
   "metadata": {},
   "source": [
    "# 数据处理"
   ]
  },
  {
   "cell_type": "code",
   "execution_count": 52,
   "metadata": {},
   "outputs": [],
   "source": [
    "import matplotlib.pyplot as plt\n",
    "from matplotlib.pyplot import MultipleLocator"
   ]
  },
  {
   "cell_type": "code",
   "execution_count": 53,
   "metadata": {},
   "outputs": [],
   "source": [
    "# age"
   ]
  },
  {
   "cell_type": "code",
   "execution_count": 58,
   "metadata": {},
   "outputs": [
    {
     "data": {
      "image/png": "[encoded data removed]",
      "text/plain": [
       "<Figure size 432x288 with 1 Axes>"
      ]
     },
     "metadata": {
      "needs_background": "light"
     },
     "output_type": "display_data"
    }
   ],
   "source": [
    "age = X_train[\"age\"][:200]\n",
    "age_n = np.array(age)\n",
    "fig = plt.figure()\n",
    "\n",
    "x_major_locator=MultipleLocator(5)\n",
    "#把x轴的刻度间隔设置为1，并存在变量里\n",
    "# y_major_locator=MultipleLocator(10)\n",
    "# #把y轴的刻度间隔设置为10，并存在变量里\n",
    "ax=plt.gca()\n",
    "#ax为两条坐标轴的实例\n",
    "ax.xaxis.set_major_locator(x_major_locator)\n",
    "\n",
    "plt.hist(age, bins = 5)\n",
    "plt.show()"
   ]
  },
  {
   "cell_type": "code",
   "execution_count": 27,
   "metadata": {},
   "outputs": [
    {
     "data": {
      "text/plain": [
       "0        39\n",
       "1        50\n",
       "2        38\n",
       "3        53\n",
       "4        28\n",
       "         ..\n",
       "32557    40\n",
       "32558    58\n",
       "32559    22\n",
       "32560    52\n",
       "32561      \n",
       "Name: age, Length: 32562, dtype: object"
      ]
     },
     "execution_count": 27,
     "metadata": {},
     "output_type": "execute_result"
    }
   ],
   "source": [
    "age"
   ]
  },
  {
   "cell_type": "code",
   "execution_count": null,
   "metadata": {},
   "outputs": [],
   "source": []
  }
 ],
 "metadata": {
  "kernelspec": {
   "display_name": "Python 3 (ipykernel)",
   "language": "python",
   "name": "python3"
  },
  "language_info": {
   "codemirror_mode": {
    "name": "ipython",
    "version": 3
   },
   "file_extension": ".py",
   "mimetype": "text/x-python",
   "name": "python",
   "nbconvert_exporter": "python",
   "pygments_lexer": "ipython3",
   "version": "3.7.12"
  }
 },
 "nbformat": 4,
 "nbformat_minor": 1
}
